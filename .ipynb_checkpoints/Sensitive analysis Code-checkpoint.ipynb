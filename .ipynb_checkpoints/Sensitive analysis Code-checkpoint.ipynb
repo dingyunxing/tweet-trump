{
 "cells": [
  {
   "cell_type": "code",
   "execution_count": 1,
   "metadata": {
    "collapsed": true
   },
   "outputs": [],
   "source": [
    "import tweepy           # To consume Twitter's API\n",
    "import pandas as pd     # To handle data\n",
    "import numpy as np      # For number computing\n",
    "\n",
    "# For plotting and visualization:\n",
    "#from IPython.display import display\n",
    "import matplotlib.pyplot as plt\n",
    "#import seaborn as sns\n",
    "%matplotlib inline"
   ]
  },
  {
   "cell_type": "code",
   "execution_count": 2,
   "metadata": {
    "scrolled": true
   },
   "outputs": [],
   "source": [
    "from credentials import *"
   ]
  },
  {
   "cell_type": "code",
   "execution_count": 3,
   "metadata": {
    "collapsed": true
   },
   "outputs": [],
   "source": [
    "# API's setup:\n",
    "def twitter_setup():\n",
    "    \"\"\"\n",
    "    Utility function to setup the Twitter's API\n",
    "    with our access keys provided.\n",
    "    \"\"\"\n",
    "    # Authentication and access using keys:\n",
    "    auth = tweepy.OAuthHandler(CONSUMER_KEY, CONSUMER_SECRET)\n",
    "    auth.set_access_token(ACCESS_TOKEN, ACCESS_SECRET)\n",
    "\n",
    "    # Return API with authentication:\n",
    "    api = tweepy.API(auth)\n",
    "    return api"
   ]
  },
  {
   "cell_type": "code",
   "execution_count": 6,
   "metadata": {},
   "outputs": [
    {
     "name": "stdout",
     "output_type": "stream",
     "text": [
      "Number of tweets extracted: 200.\n",
      "\n",
      "20 recent tweets:\n",
      "\n",
      "Kim Jong Un talked about denuclearization with the South Korean Representatives, not just a freeze. Also, no missil… https://t.co/ZLg0zRZ976\n",
      "\n",
      "“Presidential Proclamation on Adjusting Imports of Aluminum into the United States” \n",
      " \n",
      "Proclamation:… https://t.co/2GahSEcox6\n",
      "\n",
      "“Presidential Proclamation on Adjusting Imports of Steel into the United States”\n",
      " \n",
      "Proclamation:… https://t.co/hQNfSTdFS2\n",
      "\n",
      "Great meeting with @Cabinet at the @WhiteHouse today! #MAGA https://t.co/InWj0QTosz\n",
      "\n",
      "Happy #InternationalWomensDay\n",
      "\n",
      "“First Lady Melania Trump to Present the 2018 International Women of Courage Award” https://t.co/EwYtFXGvn2\n",
      "\n",
      "Looking forward to 3:30 P.M. meeting today at the White House. We have to protect &amp; build our Steel and Aluminum In… https://t.co/TOvuYY0vmd\n",
      "\n",
      "The U.S. is acting swiftly on Intellectual Property theft. We cannot allow this to happen as it has for many years!\n",
      "\n",
      "China has been asked to develop a plan for the year of a One Billion Dollar reduction in their massive Trade Defici… https://t.co/D2TzeyTmqX\n",
      "\n",
      "From Bush 1 to present, our Country has lost more than 55,000 factories, 6,000,000 manufacturing jobs and accumulat… https://t.co/PqL7IA75c4\n",
      "\n",
      "@MarkBurnettTV @RealRomaDowney From Bush 1 to present, our Country has lost more than 55,000 factories, 6,000,000 m… https://t.co/ZWsYQugFPk\n",
      "\n",
      "Great couple, great book! https://t.co/cLDI79rin8\n",
      "\n",
      "Will be making a decision soon on the appointment of new Chief Economic Advisor. Many people wanting the job - will choose wisely!\n",
      "\n",
      "Possible progress being made in talks with North Korea. For the first time in many years, a serious effort is being… https://t.co/17I9VFMLrI\n",
      "\n",
      "Federal Judge in Maryland has just ruled that “President Trump has the right to end DACA.” President Obama had 8 ye… https://t.co/Coh1fflMxK\n",
      "\n",
      "Lowest rated Oscars in HISTORY. Problem is, we don’t have Stars anymore - except your President (just kidding, of course)!\n",
      "\n",
      "RT @EricTrump: Congratulations @FoxNews: Fox has 15 of the top 20 shows with @SeanHannity and @TuckerCarlson leading the pack at 1st and 2n…\n",
      "\n",
      "We will see what happens! https://t.co/Y1qxoAUfd9\n",
      "\n",
      "We are getting it done - jobs and security! https://t.co/Ui8bubj7Yr\n",
      "\n",
      "Total inaction on DACA by Dems. Where are you? A deal can be made!\n",
      "\n",
      "The new Fake News narrative is that there is CHAOS in the White House. Wrong! People will always come &amp; go, and I w… https://t.co/gZx40h1psF\n",
      "\n"
     ]
    }
   ],
   "source": [
    "# We create an extractor object:\n",
    "extractor = twitter_setup()\n",
    "\n",
    "# We create a tweet list as follows:\n",
    "tweets = extractor.user_timeline(screen_name=\"realDonaldTrump\", count=200)\n",
    "print(\"Number of tweets extracted: {}.\\n\".format(len(tweets)))\n",
    "\n",
    "# We print the most recent 5 tweets:\n",
    "print(\"20 recent tweets:\\n\")\n",
    "for tweet in tweets[:20]:\n",
    "    print(tweet.text)\n",
    "    print()"
   ]
  },
  {
   "cell_type": "code",
   "execution_count": null,
   "metadata": {
    "collapsed": true
   },
   "outputs": [],
   "source": []
  }
 ],
 "metadata": {
  "kernelspec": {
   "display_name": "Python 3",
   "language": "python",
   "name": "python3"
  },
  "language_info": {
   "codemirror_mode": {
    "name": "ipython",
    "version": 3
   },
   "file_extension": ".py",
   "mimetype": "text/x-python",
   "name": "python",
   "nbconvert_exporter": "python",
   "pygments_lexer": "ipython3",
   "version": "3.6.3"
  }
 },
 "nbformat": 4,
 "nbformat_minor": 2
}
