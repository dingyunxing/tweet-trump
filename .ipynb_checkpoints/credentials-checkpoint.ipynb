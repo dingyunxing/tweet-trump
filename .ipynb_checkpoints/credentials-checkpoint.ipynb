{
 "cells": [
  {
   "cell_type": "code",
   "execution_count": null,
   "metadata": {
    "collapsed": true
   },
   "outputs": [],
   "source": [
    "# Twitter App access keys for @user\n",
    "\n",
    "# Consume:\n",
    "CONSUMER_KEY    = 'xIoep3YBS3ikt4K6SSqKEFZAp'\n",
    "CONSUMER_SECRET = 'lFQrRC4BIoY3PjfdpTMDUIajy7kymnitxUz9SVDDbxAmX6KYHr'\n",
    "\n",
    "# Access:\n",
    "ACCESS_TOKEN  = '4694750125-ob0kSakeEsi0sMrXwG3fg0bwmowoNFsINTDzyc0'\n",
    "ACCESS_SECRET = 'OsXvxQOjh2nesusg0XZOFtDNCitQSjid2TrGMfwX3UhZC'"
   ]
  }
 ],
 "metadata": {
  "kernelspec": {
   "display_name": "Python 3",
   "language": "python",
   "name": "python3"
  },
  "language_info": {
   "codemirror_mode": {
    "name": "ipython",
    "version": 3
   },
   "file_extension": ".py",
   "mimetype": "text/x-python",
   "name": "python",
   "nbconvert_exporter": "python",
   "pygments_lexer": "ipython3",
   "version": "3.6.3"
  }
 },
 "nbformat": 4,
 "nbformat_minor": 2
}
