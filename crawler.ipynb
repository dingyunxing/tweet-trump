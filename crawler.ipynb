{
 "cells": [
  {
   "cell_type": "code",
   "execution_count": 1,
   "metadata": {
    "collapsed": true
   },
   "outputs": [],
   "source": [
    "import time\n",
    "import pandas as pd\n",
    "import numpy as np\n",
    "\n",
    "from datetime import datetime\n",
    "from selenium import webdriver\n",
    "from selenium.webdriver.common.keys import Keys"
   ]
  },
  {
   "cell_type": "code",
   "execution_count": 2,
   "metadata": {
    "collapsed": true,
    "scrolled": false
   },
   "outputs": [],
   "source": [
    "browser = webdriver.Chrome()\n",
    "base_url = u'https://twitter.com/'\n",
    "query = u'realDonaldTrump'\n",
    "url = base_url + query\n",
    "\n",
    "browser.get(url)\n",
    "time.sleep(1)\n",
    "\n",
    "body = browser.find_element_by_tag_name('body')\n",
    "\n",
    "for _ in range(500):\n",
    "    body.send_keys(Keys.PAGE_DOWN)\n",
    "    time.sleep(0.05)\n",
    "    \n",
    "tweets = browser.find_elements_by_class_name('js-tweet-text-container')\n",
    "times = browser.find_elements_by_class_name('_timestamp')\n"
   ]
  },
  {
   "cell_type": "code",
   "execution_count": 3,
   "metadata": {
    "scrolled": false
   },
   "outputs": [
    {
     "data": {
      "text/plain": [
       "649"
      ]
     },
     "execution_count": 3,
     "metadata": {},
     "output_type": "execute_result"
    }
   ],
   "source": [
    "len(tweets)"
   ]
  },
  {
   "cell_type": "code",
   "execution_count": 4,
   "metadata": {},
   "outputs": [
    {
     "data": {
      "text/plain": [
       "829"
      ]
     },
     "execution_count": 4,
     "metadata": {},
     "output_type": "execute_result"
    }
   ],
   "source": [
    "len(times)"
   ]
  },
  {
   "cell_type": "code",
   "execution_count": 5,
   "metadata": {
    "collapsed": true
   },
   "outputs": [],
   "source": [
    "# create the dataframe to store the data\n",
    "df = pd.DataFrame(data=[tweet.text for tweet in tweets], columns=['Tweets'])"
   ]
  },
  {
   "cell_type": "code",
   "execution_count": 6,
   "metadata": {
    "scrolled": true
   },
   "outputs": [
    {
     "data": {
      "text/html": [
       "<div>\n",
       "<style>\n",
       "    .dataframe thead tr:only-child th {\n",
       "        text-align: right;\n",
       "    }\n",
       "\n",
       "    .dataframe thead th {\n",
       "        text-align: left;\n",
       "    }\n",
       "\n",
       "    .dataframe tbody tr th {\n",
       "        vertical-align: top;\n",
       "    }\n",
       "</style>\n",
       "<table border=\"1\" class=\"dataframe\">\n",
       "  <thead>\n",
       "    <tr style=\"text-align: right;\">\n",
       "      <th></th>\n",
       "      <th>Tweets</th>\n",
       "    </tr>\n",
       "  </thead>\n",
       "  <tbody>\n",
       "    <tr>\n",
       "      <th>0</th>\n",
       "      <td>Epic crowd in Moon Township, Pennsylvania toni...</td>\n",
       "    </tr>\n",
       "    <tr>\n",
       "      <th>1</th>\n",
       "      <td>Join me LIVE in Moon Township, Pennsylvania at...</td>\n",
       "    </tr>\n",
       "    <tr>\n",
       "      <th>2</th>\n",
       "      <td>The European Union, wonderful countries who tr...</td>\n",
       "    </tr>\n",
       "    <tr>\n",
       "      <th>3</th>\n",
       "      <td>In the first hours after hearing that North Ko...</td>\n",
       "    </tr>\n",
       "    <tr>\n",
       "      <th>4</th>\n",
       "      <td>North Korea has not conducted a Missile Test s...</td>\n",
       "    </tr>\n",
       "  </tbody>\n",
       "</table>\n",
       "</div>"
      ],
      "text/plain": [
       "                                              Tweets\n",
       "0  Epic crowd in Moon Township, Pennsylvania toni...\n",
       "1  Join me LIVE in Moon Township, Pennsylvania at...\n",
       "2  The European Union, wonderful countries who tr...\n",
       "3  In the first hours after hearing that North Ko...\n",
       "4  North Korea has not conducted a Missile Test s..."
      ]
     },
     "execution_count": 6,
     "metadata": {},
     "output_type": "execute_result"
    }
   ],
   "source": [
    "df.head()"
   ]
  },
  {
   "cell_type": "markdown",
   "metadata": {},
   "source": [
    "### extract the time of the tweets"
   ]
  },
  {
   "cell_type": "code",
   "execution_count": 7,
   "metadata": {
    "collapsed": true
   },
   "outputs": [],
   "source": [
    "# create a vacant list for dates\n",
    "dates = []\n",
    "for time in times:\n",
    "    dates.append(datetime.fromtimestamp(float(time.get_attribute('data-time'))))"
   ]
  },
  {
   "cell_type": "code",
   "execution_count": 8,
   "metadata": {
    "collapsed": true
   },
   "outputs": [],
   "source": [
    "se = pd.Series(dates)\n",
    "df['Date'] = se.values"
   ]
  },
  {
   "cell_type": "code",
   "execution_count": 9,
   "metadata": {
    "scrolled": false
   },
   "outputs": [
    {
     "data": {
      "text/html": [
       "<div>\n",
       "<style>\n",
       "    .dataframe thead tr:only-child th {\n",
       "        text-align: right;\n",
       "    }\n",
       "\n",
       "    .dataframe thead th {\n",
       "        text-align: left;\n",
       "    }\n",
       "\n",
       "    .dataframe tbody tr th {\n",
       "        vertical-align: top;\n",
       "    }\n",
       "</style>\n",
       "<table border=\"1\" class=\"dataframe\">\n",
       "  <thead>\n",
       "    <tr style=\"text-align: right;\">\n",
       "      <th></th>\n",
       "      <th>Tweets</th>\n",
       "      <th>Date</th>\n",
       "    </tr>\n",
       "  </thead>\n",
       "  <tbody>\n",
       "    <tr>\n",
       "      <th>0</th>\n",
       "      <td>Epic crowd in Moon Township, Pennsylvania toni...</td>\n",
       "      <td>2018-03-10 20:37:31</td>\n",
       "    </tr>\n",
       "    <tr>\n",
       "      <th>1</th>\n",
       "      <td>Join me LIVE in Moon Township, Pennsylvania at...</td>\n",
       "      <td>2018-03-10 18:56:47</td>\n",
       "    </tr>\n",
       "    <tr>\n",
       "      <th>2</th>\n",
       "      <td>The European Union, wonderful countries who tr...</td>\n",
       "      <td>2018-03-10 16:29:37</td>\n",
       "    </tr>\n",
       "    <tr>\n",
       "      <th>3</th>\n",
       "      <td>In the first hours after hearing that North Ko...</td>\n",
       "      <td>2018-03-10 15:02:02</td>\n",
       "    </tr>\n",
       "    <tr>\n",
       "      <th>4</th>\n",
       "      <td>North Korea has not conducted a Missile Test s...</td>\n",
       "      <td>2018-03-10 13:38:17</td>\n",
       "    </tr>\n",
       "  </tbody>\n",
       "</table>\n",
       "</div>"
      ],
      "text/plain": [
       "                                              Tweets                Date\n",
       "0  Epic crowd in Moon Township, Pennsylvania toni... 2018-03-10 20:37:31\n",
       "1  Join me LIVE in Moon Township, Pennsylvania at... 2018-03-10 18:56:47\n",
       "2  The European Union, wonderful countries who tr... 2018-03-10 16:29:37\n",
       "3  In the first hours after hearing that North Ko... 2018-03-10 15:02:02\n",
       "4  North Korea has not conducted a Missile Test s... 2018-03-10 13:38:17"
      ]
     },
     "execution_count": 9,
     "metadata": {},
     "output_type": "execute_result"
    }
   ],
   "source": [
    "df.head()"
   ]
  },
  {
   "cell_type": "code",
   "execution_count": 10,
   "metadata": {
    "collapsed": true
   },
   "outputs": [],
   "source": [
    "df[\"Year\"] = np.array([y.year for y in dates])\n",
    "df[\"Month\"] = np.array([m.month for m in dates])\n",
    "df[\"Day\"] = np.array([d.day for d in dates])"
   ]
  },
  {
   "cell_type": "code",
   "execution_count": 11,
   "metadata": {},
   "outputs": [
    {
     "data": {
      "text/html": [
       "<div>\n",
       "<style>\n",
       "    .dataframe thead tr:only-child th {\n",
       "        text-align: right;\n",
       "    }\n",
       "\n",
       "    .dataframe thead th {\n",
       "        text-align: left;\n",
       "    }\n",
       "\n",
       "    .dataframe tbody tr th {\n",
       "        vertical-align: top;\n",
       "    }\n",
       "</style>\n",
       "<table border=\"1\" class=\"dataframe\">\n",
       "  <thead>\n",
       "    <tr style=\"text-align: right;\">\n",
       "      <th></th>\n",
       "      <th>Tweets</th>\n",
       "      <th>Date</th>\n",
       "      <th>Year</th>\n",
       "      <th>Month</th>\n",
       "      <th>Day</th>\n",
       "    </tr>\n",
       "  </thead>\n",
       "  <tbody>\n",
       "    <tr>\n",
       "      <th>0</th>\n",
       "      <td>Epic crowd in Moon Township, Pennsylvania toni...</td>\n",
       "      <td>2018-03-10 20:37:31</td>\n",
       "      <td>2018</td>\n",
       "      <td>3</td>\n",
       "      <td>10</td>\n",
       "    </tr>\n",
       "    <tr>\n",
       "      <th>1</th>\n",
       "      <td>Join me LIVE in Moon Township, Pennsylvania at...</td>\n",
       "      <td>2018-03-10 18:56:47</td>\n",
       "      <td>2018</td>\n",
       "      <td>3</td>\n",
       "      <td>10</td>\n",
       "    </tr>\n",
       "    <tr>\n",
       "      <th>2</th>\n",
       "      <td>The European Union, wonderful countries who tr...</td>\n",
       "      <td>2018-03-10 16:29:37</td>\n",
       "      <td>2018</td>\n",
       "      <td>3</td>\n",
       "      <td>10</td>\n",
       "    </tr>\n",
       "    <tr>\n",
       "      <th>3</th>\n",
       "      <td>In the first hours after hearing that North Ko...</td>\n",
       "      <td>2018-03-10 15:02:02</td>\n",
       "      <td>2018</td>\n",
       "      <td>3</td>\n",
       "      <td>10</td>\n",
       "    </tr>\n",
       "    <tr>\n",
       "      <th>4</th>\n",
       "      <td>North Korea has not conducted a Missile Test s...</td>\n",
       "      <td>2018-03-10 13:38:17</td>\n",
       "      <td>2018</td>\n",
       "      <td>3</td>\n",
       "      <td>10</td>\n",
       "    </tr>\n",
       "  </tbody>\n",
       "</table>\n",
       "</div>"
      ],
      "text/plain": [
       "                                              Tweets                Date  \\\n",
       "0  Epic crowd in Moon Township, Pennsylvania toni... 2018-03-10 20:37:31   \n",
       "1  Join me LIVE in Moon Township, Pennsylvania at... 2018-03-10 18:56:47   \n",
       "2  The European Union, wonderful countries who tr... 2018-03-10 16:29:37   \n",
       "3  In the first hours after hearing that North Ko... 2018-03-10 15:02:02   \n",
       "4  North Korea has not conducted a Missile Test s... 2018-03-10 13:38:17   \n",
       "\n",
       "   Year  Month  Day  \n",
       "0  2018      3   10  \n",
       "1  2018      3   10  \n",
       "2  2018      3   10  \n",
       "3  2018      3   10  \n",
       "4  2018      3   10  "
      ]
     },
     "execution_count": 11,
     "metadata": {},
     "output_type": "execute_result"
    }
   ],
   "source": [
    "df.head(5)"
   ]
  },
  {
   "cell_type": "code",
   "execution_count": 12,
   "metadata": {},
   "outputs": [
    {
     "data": {
      "text/html": [
       "<div>\n",
       "<style>\n",
       "    .dataframe thead tr:only-child th {\n",
       "        text-align: right;\n",
       "    }\n",
       "\n",
       "    .dataframe thead th {\n",
       "        text-align: left;\n",
       "    }\n",
       "\n",
       "    .dataframe tbody tr th {\n",
       "        vertical-align: top;\n",
       "    }\n",
       "</style>\n",
       "<table border=\"1\" class=\"dataframe\">\n",
       "  <thead>\n",
       "    <tr style=\"text-align: right;\">\n",
       "      <th></th>\n",
       "      <th>Tweets</th>\n",
       "      <th>Date</th>\n",
       "      <th>Year</th>\n",
       "      <th>Month</th>\n",
       "      <th>Day</th>\n",
       "    </tr>\n",
       "  </thead>\n",
       "  <tbody>\n",
       "    <tr>\n",
       "      <th>824</th>\n",
       "      <td>The decision on Sergeant Bergdahl is a complet...</td>\n",
       "      <td>2017-11-03 12:54:59</td>\n",
       "      <td>2017</td>\n",
       "      <td>11</td>\n",
       "      <td>3</td>\n",
       "    </tr>\n",
       "    <tr>\n",
       "      <th>825</th>\n",
       "      <td>JOBS, JOBS, JOBS!</td>\n",
       "      <td>2017-11-03 12:22:11</td>\n",
       "      <td>2017</td>\n",
       "      <td>11</td>\n",
       "      <td>3</td>\n",
       "    </tr>\n",
       "    <tr>\n",
       "      <th>826</th>\n",
       "      <td>The rigged Dem Primary, one of the biggest pol...</td>\n",
       "      <td>2017-11-03 12:09:52</td>\n",
       "      <td>2017</td>\n",
       "      <td>11</td>\n",
       "      <td>3</td>\n",
       "    </tr>\n",
       "    <tr>\n",
       "      <th>827</th>\n",
       "      <td>Just took off for ceremony @ Pearl Harbor. Wil...</td>\n",
       "      <td>2017-11-03 10:45:56</td>\n",
       "      <td>2017</td>\n",
       "      <td>11</td>\n",
       "      <td>3</td>\n",
       "    </tr>\n",
       "    <tr>\n",
       "      <th>828</th>\n",
       "      <td>I always felt I would be running and winning a...</td>\n",
       "      <td>2017-11-03 10:29:55</td>\n",
       "      <td>2017</td>\n",
       "      <td>11</td>\n",
       "      <td>3</td>\n",
       "    </tr>\n",
       "  </tbody>\n",
       "</table>\n",
       "</div>"
      ],
      "text/plain": [
       "                                                Tweets                Date  \\\n",
       "824  The decision on Sergeant Bergdahl is a complet... 2017-11-03 12:54:59   \n",
       "825                                  JOBS, JOBS, JOBS! 2017-11-03 12:22:11   \n",
       "826  The rigged Dem Primary, one of the biggest pol... 2017-11-03 12:09:52   \n",
       "827  Just took off for ceremony @ Pearl Harbor. Wil... 2017-11-03 10:45:56   \n",
       "828  I always felt I would be running and winning a... 2017-11-03 10:29:55   \n",
       "\n",
       "     Year  Month  Day  \n",
       "824  2017     11    3  \n",
       "825  2017     11    3  \n",
       "826  2017     11    3  \n",
       "827  2017     11    3  \n",
       "828  2017     11    3  "
      ]
     },
     "execution_count": 12,
     "metadata": {},
     "output_type": "execute_result"
    }
   ],
   "source": [
    "df.tail(5)"
   ]
  },
  {
   "cell_type": "code",
   "execution_count": 13,
   "metadata": {
    "collapsed": true
   },
   "outputs": [],
   "source": [
    "df.to_csv(\"/Users/dingyunxing/Documents/AnacondaProjects/tweetTrump/tweet/all_tweets.csv\")"
   ]
  },
  {
   "cell_type": "code",
   "execution_count": null,
   "metadata": {
    "collapsed": true
   },
   "outputs": [],
   "source": []
  }
 ],
 "metadata": {
  "kernelspec": {
   "display_name": "Python 3",
   "language": "python",
   "name": "python3"
  },
  "language_info": {
   "codemirror_mode": {
    "name": "ipython",
    "version": 3
   },
   "file_extension": ".py",
   "mimetype": "text/x-python",
   "name": "python",
   "nbconvert_exporter": "python",
   "pygments_lexer": "ipython3",
   "version": "3.6.3"
  }
 },
 "nbformat": 4,
 "nbformat_minor": 2
}
